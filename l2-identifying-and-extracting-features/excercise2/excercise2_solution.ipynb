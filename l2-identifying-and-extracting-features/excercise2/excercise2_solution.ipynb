{
 "cells": [
  {
   "cell_type": "markdown",
   "id": "b4da38ad",
   "metadata": {},
   "source": [
    "# 1. Libraries & Sample Data\n",
    "The first step is to load our Python Libraries and download the sample data. The dataset represents Apple stock price (1d bars) for the year 2010"
   ]
  },
  {
   "cell_type": "code",
   "execution_count": null,
   "id": "1aa05430",
   "metadata": {},
   "outputs": [],
   "source": [
    "# Load Python Libraries\n",
    "import numpy as np\n",
    "import pandas as pd\n",
    "import matplotlib.pyplot as plt\n",
    "from sklearn.preprocessing import StandardScaler\n",
    "\n",
    "from IPython.display import display, HTML\n",
    "# for dataframe display\n",
    "pd.set_option(\"display.max_rows\", None)\n",
    "def display_df(df):\n",
    "    # Puts the scrollbar next to the DataFrame\n",
    "    display(HTML(\"<div style='height: 200px; overflow: auto; width: fit-content'>\" + df.to_html() + \"</div>\"))"
   ]
  },
  {
   "cell_type": "code",
   "execution_count": null,
   "id": "fa831031",
   "metadata": {},
   "outputs": [],
   "source": [
    "# Download Sample Data\n",
    "data = pd.read_csv('aapl_2010_3m_RAW.csv')"
   ]
  },
  {
   "cell_type": "markdown",
   "id": "8c4a4a35",
   "metadata": {},
   "source": [
    "# 2. Exploratory Data Analysis\n",
    "Next, we want to analyze our data. Display the data as a dataframe, and plot some relevant data so you can get an idea of what our dataset looks like."
   ]
  },
  {
   "cell_type": "code",
   "execution_count": null,
   "id": "aedbfa86",
   "metadata": {},
   "outputs": [],
   "source": [
    "# Display as Dataframe\n",
    "display_df(data)"
   ]
  },
  {
   "cell_type": "code",
   "execution_count": null,
   "id": "7b0f9772",
   "metadata": {},
   "outputs": [],
   "source": [
    "# Index data by Date\n",
    "data.set_index('Date', inplace=True)\n",
    "display_df(data)"
   ]
  },
  {
   "cell_type": "code",
   "execution_count": null,
   "id": "b401f82f",
   "metadata": {},
   "outputs": [],
   "source": [
    "# Plot the Close Data\n",
    "data['Close'].plot()"
   ]
  },
  {
   "cell_type": "markdown",
   "id": "189bc851",
   "metadata": {},
   "source": [
    "# 3. Data Cleaning\n",
    "Next, we need to clean our data for training our model. This requires removal of NaN values."
   ]
  },
  {
   "cell_type": "code",
   "execution_count": null,
   "id": "b0ebfafd",
   "metadata": {},
   "outputs": [],
   "source": [
    "# Check for null values\n",
    "print('Number of Null Values =', data.isnull().sum())"
   ]
  },
  {
   "cell_type": "code",
   "execution_count": null,
   "id": "d9128668",
   "metadata": {},
   "outputs": [],
   "source": [
    "# forward fill missing values\n",
    "data=data.ffill()\n",
    "display_df(data)"
   ]
  },
  {
   "cell_type": "code",
   "execution_count": null,
   "id": "9a6050c5",
   "metadata": {},
   "outputs": [],
   "source": [
    "# Check for null values\n",
    "print('Number of Null Values =', data.isnull().sum())"
   ]
  },
  {
   "cell_type": "code",
   "execution_count": null,
   "id": "91cc9890",
   "metadata": {},
   "outputs": [],
   "source": [
    "data.reset_index().to_csv('aapl_2010_3m_CLEAN.csv')"
   ]
  },
  {
   "cell_type": "markdown",
   "id": "764fed7f",
   "metadata": {},
   "source": [
    "# 4. Feature Definition\n",
    "Now that we have cleaned our stock data, we can define some financial indicaors, or \"features\" to train our model on. We will be calculating some popular indicators: 20-day Close Moving Average, 5-day Close Moving Average, 20-day Close Bollinger Bands, and 20-day Historical Volatility of Close Price. "
   ]
  },
  {
   "cell_type": "code",
   "execution_count": null,
   "id": "dcb99ad6",
   "metadata": {},
   "outputs": [],
   "source": [
    "data['MA5'] = data['Close'].rolling(window=5).mean()\n",
    "data['MA20'] = data['Close'].rolling(window=20).mean()\n",
    "data['STD20'] = data['Close'].rolling(window=20).std()\n",
    "data['BB_upper'] = data['MA20'] + (data['STD20'] * 2)\n",
    "data['BB_lower'] = data['MA20'] - (data['STD20'] * 2)\n",
    "data['Log_Ret'] = np.log(data['Close'] / data['Close'].shift(1))\n",
    "data['Vol20'] = data['Log_Ret'].rolling(window=20).std() * np.sqrt(252)\n",
    "display_df(data)"
   ]
  },
  {
   "cell_type": "code",
   "execution_count": null,
   "id": "42224d3f",
   "metadata": {},
   "outputs": [],
   "source": [
    "# Remove rows with MA=NaN\n",
    "data = data.dropna(axis=0)\n",
    "display_df(data)"
   ]
  },
  {
   "cell_type": "code",
   "execution_count": null,
   "id": "e8f48c1c",
   "metadata": {},
   "outputs": [],
   "source": [
    "# Plot Features: Close, MA20, BB Upper, BB Lower\n",
    "data['Close'].plot()\n",
    "data['MA20'].plot()\n",
    "data['BB_upper'].plot()\n",
    "data['BB_lower'].plot()"
   ]
  },
  {
   "cell_type": "code",
   "execution_count": null,
   "id": "e01e1670",
   "metadata": {},
   "outputs": [],
   "source": [
    "# Plot Features: Close, MA20, MA5\n",
    "data['Close'].plot()\n",
    "data['MA20'].plot()\n",
    "data['MA5'].plot()"
   ]
  },
  {
   "cell_type": "code",
   "execution_count": null,
   "id": "2bfbddc5",
   "metadata": {},
   "outputs": [],
   "source": [
    "# Plot Features: Volatility\n",
    "data['Vol20'].plot()"
   ]
  },
  {
   "cell_type": "markdown",
   "id": "b2f718a0",
   "metadata": {},
   "source": [
    "# 5. Normalization\n",
    "Now that we have cleaned our data, and created our features of interest, we must normalize our data. For this example, we use the sklearn StandardScaler, which centers the data and normalizes to unit variance. Due to the fact that our data is time-series data, it is best practice to do this in a rolling fashion. We choose 20 days as our window for normalization, and run the StandardScaler in a rolling (non-overlapping) fashion. "
   ]
  },
  {
   "cell_type": "code",
   "execution_count": null,
   "id": "d6541e2f",
   "metadata": {},
   "outputs": [],
   "source": [
    "# Get rid of Date, Open, High, and Low data\n",
    "dataset = data.reset_index()[['Date', 'Close', 'MA5', 'MA20', 'STD20', 'BB_upper', 'BB_lower', 'Vol20']]\n",
    "display_df(dataset)\n",
    "# normlist = []"
   ]
  },
  {
   "cell_type": "code",
   "execution_count": null,
   "id": "b1f2cbb1",
   "metadata": {},
   "outputs": [],
   "source": [
    "# Normalize the chosen price data & features\n",
    "normed_dataset = pd.DataFrame(index=dataset.index, columns=dataset.columns)\n",
    "step = 20\n",
    "for col in dataset.columns:\n",
    "    n = 0\n",
    "    if col == 'Date':\n",
    "        normed_dataset[col] = dataset[col]\n",
    "        continue\n",
    "    while n<=len(data.index):\n",
    "        normalizer = StandardScaler()\n",
    "        if n == 0:\n",
    "            column_data = dataset.loc[:n+step, col]\n",
    "            normalizer.fit(column_data.values.reshape(-1, 1))\n",
    "            normed_dataset.loc[:n+step, col] = normalizer.transform(column_data.values.reshape(-1, 1)).flatten()\n",
    "        elif n+step >= len(data.index):\n",
    "            column_data = dataset.loc[n:, col]\n",
    "            normalizer.fit(column_data.values.reshape(-1, 1))\n",
    "            normed_dataset.loc[n:,col] = normalizer.transform(column_data.values.reshape(-1, 1)).flatten()\n",
    "        else:\n",
    "            column_data = dataset.loc[n:n+step, col]\n",
    "            normalizer.fit(column_data.values.reshape(-1, 1))\n",
    "            normed_dataset.loc[n:n+step, col] = normalizer.transform(column_data.values.reshape(-1, 1)).flatten()\n",
    "        n += step\n",
    "        # normlist.append(normalizer)\n",
    "display_df(normed_dataset)\n"
   ]
  },
  {
   "cell_type": "code",
   "execution_count": null,
   "id": "7dcab016",
   "metadata": {},
   "outputs": [],
   "source": [
    "# Plot Normalized Features: Close, MA20, BB Upper, BB Lower\n",
    "normed_dataset['Close'].plot()\n",
    "normed_dataset['MA20'].plot()\n",
    "normed_dataset['BB_upper'].plot()\n",
    "normed_dataset['BB_lower'].plot()"
   ]
  },
  {
   "cell_type": "code",
   "execution_count": null,
   "id": "dd7c59e8",
   "metadata": {},
   "outputs": [],
   "source": [
    "# Plot Normalized Features: Close, MA20, MA5\n",
    "normed_dataset['Close'].plot()\n",
    "normed_dataset['MA20'].plot()\n",
    "normed_dataset['MA5'].plot()"
   ]
  },
  {
   "cell_type": "code",
   "execution_count": null,
   "id": "678b843f",
   "metadata": {},
   "outputs": [],
   "source": [
    "# Plot Normalized Features: Close, Volatility\n",
    "normed_dataset['Close'].plot()\n",
    "normed_dataset['Vol20'].plot()"
   ]
  }
 ],
 "metadata": {
  "kernelspec": {
   "display_name": "rl-project-udacity",
   "language": "python",
   "name": "python3"
  },
  "language_info": {
   "codemirror_mode": {
    "name": "ipython",
    "version": 3
   },
   "file_extension": ".py",
   "mimetype": "text/x-python",
   "name": "python",
   "nbconvert_exporter": "python",
   "pygments_lexer": "ipython3",
   "version": "3.11.9"
  }
 },
 "nbformat": 4,
 "nbformat_minor": 5
}
