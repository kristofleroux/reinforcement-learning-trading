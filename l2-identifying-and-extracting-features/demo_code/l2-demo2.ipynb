{
 "cells": [
  {
   "cell_type": "markdown",
   "id": "b4da38ad",
   "metadata": {},
   "source": [
    "# 1. Libraries & Sample Data\n",
    "The first step is to load our Python Libraries and download the sample data. The dataset represents Apple stock price (1d bars) for the year 2010"
   ]
  },
  {
   "cell_type": "code",
   "execution_count": null,
   "id": "1aa05430",
   "metadata": {},
   "outputs": [],
   "source": [
    "# Load Python Libraries\n",
    "import numpy as np\n",
    "import pandas as pd\n",
    "import matplotlib.pyplot as plt\n",
    "from sklearn.preprocessing import StandardScaler\n",
    "\n",
    "from IPython.display import display, HTML\n",
    "# for dataframe display\n",
    "pd.set_option(\"display.max_rows\", None)\n",
    "def display_df(df):\n",
    "    # Puts the scrollbar next to the DataFrame\n",
    "    display(HTML(\"<div style='height: 200px; overflow: auto; width: fit-content'>\" + df.to_html() + \"</div>\"))"
   ]
  },
  {
   "cell_type": "code",
   "execution_count": null,
   "id": "fa831031",
   "metadata": {},
   "outputs": [],
   "source": [
    "# Download Sample Data\n",
    "data = pd.read_csv('GOOG_2009-2010_6m_RAW_1d.csv')"
   ]
  },
  {
   "cell_type": "markdown",
   "id": "07b07a7e",
   "metadata": {},
   "source": [
    "# 2. Exploratory Data Analysis\n",
    "Next, we want to analyze our data. Display the data as a dataframe, and plot some relevant data so you can get an idea of what our dataset looks like."
   ]
  },
  {
   "cell_type": "code",
   "execution_count": null,
   "id": "e3f1f445",
   "metadata": {},
   "outputs": [],
   "source": [
    "# Display as Dataframe\n",
    "display_df(data)"
   ]
  },
  {
   "cell_type": "code",
   "execution_count": null,
   "id": "14311a5e",
   "metadata": {},
   "outputs": [],
   "source": [
    "# Index data by Date\n",
    "data.set_index('Date', inplace=True)\n",
    "display_df(data)"
   ]
  },
  {
   "cell_type": "code",
   "execution_count": null,
   "id": "ff369966",
   "metadata": {},
   "outputs": [],
   "source": [
    "# Plot the Close Data\n",
    "data['Close'].plot()"
   ]
  },
  {
   "cell_type": "markdown",
   "id": "4498c69d",
   "metadata": {},
   "source": [
    "# 3. Data Cleaning\n",
    "Next, we need to clean our data for training our model. This requires removal of NaN values."
   ]
  },
  {
   "cell_type": "code",
   "execution_count": null,
   "id": "2bef9a69",
   "metadata": {},
   "outputs": [],
   "source": [
    "# Check for null values\n",
    "print('Number of Null Values =', data.isnull().sum())"
   ]
  },
  {
   "cell_type": "code",
   "execution_count": null,
   "id": "4a276f9c",
   "metadata": {},
   "outputs": [],
   "source": [
    "# forward fill missing values\n",
    "data=data.ffill()\n",
    "display_df(data)"
   ]
  },
  {
   "cell_type": "code",
   "execution_count": null,
   "id": "f14b74bc",
   "metadata": {},
   "outputs": [],
   "source": [
    "# Check for null values\n",
    "print('Number of Null Values =', data.isnull().sum())"
   ]
  },
  {
   "cell_type": "markdown",
   "id": "914a0089",
   "metadata": {},
   "source": [
    "# 4. Feature Definition\n",
    "Now that we have cleaned our stock data, we can define some financial indicaors, or \"features\" to train our model on. We will be calculating some popular indicators: 20-day Close Moving Average, 5-day Close Moving Average, and 20-day Close Bollinger Bands."
   ]
  },
  {
   "cell_type": "code",
   "execution_count": null,
   "id": "87552ec7",
   "metadata": {},
   "outputs": [],
   "source": [
    "data['MA5'] = data['Close'].rolling(window=5).mean()\n",
    "data['MA20'] = data['Close'].rolling(window=20).mean()\n",
    "data['STD20'] = data['Close'].rolling(window=20).std()\n",
    "data['BB_upper'] = data['MA20'] + (data['STD20'] * 2)\n",
    "data['BB_lower'] = data['MA20'] - (data['STD20'] * 2)\n",
    "display_df(data)"
   ]
  },
  {
   "cell_type": "code",
   "execution_count": null,
   "id": "1fd4f73e",
   "metadata": {},
   "outputs": [],
   "source": [
    "# Remove rows with MA=NaN\n",
    "data = data.dropna(axis=0)\n",
    "display_df(data)"
   ]
  },
  {
   "cell_type": "code",
   "execution_count": null,
   "id": "ac5e147c",
   "metadata": {},
   "outputs": [],
   "source": [
    "# Plot Features: Close, MA20, BB Upper, BB Lower\n",
    "data['Close'].plot()\n",
    "data['MA20'].plot()\n",
    "data['BB_upper'].plot()\n",
    "data['BB_lower'].plot(rot=45)"
   ]
  },
  {
   "cell_type": "code",
   "execution_count": null,
   "id": "24952b6d",
   "metadata": {},
   "outputs": [],
   "source": [
    "# Plot Features: Close, MA20, MA5\n",
    "data['Close'].plot()\n",
    "data['MA20'].plot()\n",
    "data['MA5'].plot(rot=45)"
   ]
  },
  {
   "cell_type": "markdown",
   "id": "fd9233ca",
   "metadata": {},
   "source": [
    "# 5. State Space Representation\n",
    "Now we have a set of data with OHLC data plus some techinchal indicators. Using this data, construct the state space matrix, whese features of the state space are Close Price, 5-day Moving Average, 20-day Moving Average, and Bollinger Bands (upper and lower)."
   ]
  },
  {
   "cell_type": "code",
   "execution_count": null,
   "id": "350ef137",
   "metadata": {},
   "outputs": [],
   "source": [
    "# Construct the State Space Matrix\n",
    "dataset = data.reset_index()[['Date', 'Close', 'MA5', 'MA20', 'BB_upper', 'BB_lower']]\n",
    "display_df(dataset)"
   ]
  },
  {
   "cell_type": "markdown",
   "id": "4e573f39",
   "metadata": {},
   "source": [
    "# 6. Z-Score Normalization\n",
    "Now that we have cleaned our data, and created our features of interest, we must normalize our data. For this example, we use the sklearn StandardScaler, which centers the data and normalizes to unit variance (i.e. performs z-score normalization for us). Do this in a simple, non-rolling fashion."
   ]
  },
  {
   "cell_type": "code",
   "execution_count": null,
   "id": "7aab1517",
   "metadata": {},
   "outputs": [],
   "source": [
    "# Display & Plot Un-normalized Dataset\n"
   ]
  },
  {
   "cell_type": "code",
   "execution_count": null,
   "id": "588b508b",
   "metadata": {},
   "outputs": [],
   "source": [
    "# Normalize Dataset with StandardScaler\n"
   ]
  },
  {
   "cell_type": "code",
   "execution_count": null,
   "id": "ad5c80b8",
   "metadata": {},
   "outputs": [],
   "source": [
    "# Plot Normalized Features: Close, MA20, BB Upper, BB Lower\n"
   ]
  },
  {
   "cell_type": "code",
   "execution_count": null,
   "id": "88d8d6d5",
   "metadata": {},
   "outputs": [],
   "source": [
    "# Plot Normalized Features: Close, MA20, MA5\n"
   ]
  },
  {
   "cell_type": "markdown",
   "id": "b2f718a0",
   "metadata": {},
   "source": [
    "# 7. Rolling Z-Score Normalization\n",
    "Now that we have cleaned our data, and created our features of interest, we must normalize our data. For this example, we use the sklearn StandardScaler, which centers the data and normalizes to unit variance. Due to the fact that our data is time-series data, it is best practice to do this in a rolling fashion. We choose 20 days as our window for normalization, and run the StandardScaler in a rolling (non-overlapping) fashion. "
   ]
  },
  {
   "cell_type": "code",
   "execution_count": null,
   "id": "b491d9fb",
   "metadata": {},
   "outputs": [],
   "source": [
    "# Display raw dataset (unnormalized) \n"
   ]
  },
  {
   "cell_type": "code",
   "execution_count": null,
   "id": "b1f2cbb1",
   "metadata": {},
   "outputs": [],
   "source": [
    "# Normalize the chosen price data & features\n",
    "\n"
   ]
  },
  {
   "cell_type": "code",
   "execution_count": null,
   "id": "7dcab016",
   "metadata": {},
   "outputs": [],
   "source": [
    "# Plot Normalized Features: Close, MA20, BB Upper, BB Lower\n"
   ]
  },
  {
   "cell_type": "code",
   "execution_count": null,
   "id": "dd7c59e8",
   "metadata": {},
   "outputs": [],
   "source": [
    "# Plot Normalized Features: Close, MA20, MA5\n"
   ]
  }
 ],
 "metadata": {
  "kernelspec": {
   "display_name": "rl-project-udacity",
   "language": "python",
   "name": "python3"
  },
  "language_info": {
   "codemirror_mode": {
    "name": "ipython",
    "version": 3
   },
   "file_extension": ".py",
   "mimetype": "text/x-python",
   "name": "python",
   "nbconvert_exporter": "python",
   "pygments_lexer": "ipython3",
   "version": "3.11.9"
  }
 },
 "nbformat": 4,
 "nbformat_minor": 5
}
