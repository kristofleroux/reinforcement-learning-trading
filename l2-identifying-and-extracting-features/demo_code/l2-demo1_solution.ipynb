{
 "cells": [
  {
   "cell_type": "code",
   "execution_count": null,
   "id": "e422b5f0",
   "metadata": {},
   "outputs": [],
   "source": [
    "import numpy as np\n",
    "import yfinance as yf\n",
    "# Download Google Ticker Data\n",
    "data = yf.download('GOOG', start='2009-04-01', end='2010-01-01', interval='1d')\n",
    "print(len(data.index))\n",
    "for i in range(4, len(data.index), int(len(data.index)/10)):\n",
    "    data.iloc[i] = np.nan\n",
    "data.to_csv('GOOG_2009-2010_6m_RAW_1d.csv')"
   ]
  },
  {
   "cell_type": "markdown",
   "id": "b4da38ad",
   "metadata": {},
   "source": [
    "# 1. Libraries & Sample Data\n",
    "The first step is to load our Python Libraries and download the sample data. The dataset represents Google stock price (1d bars) for the year 2010"
   ]
  },
  {
   "cell_type": "code",
   "execution_count": null,
   "id": "1aa05430",
   "metadata": {},
   "outputs": [],
   "source": [
    "# Load Python Libraries\n",
    "import numpy as np\n",
    "import pandas as pd\n",
    "import matplotlib.pyplot as plt\n",
    "\n",
    "from IPython.display import display, HTML\n",
    "# for dataframe display\n",
    "pd.set_option(\"display.max_rows\", None)\n",
    "def display_df(df):\n",
    "    # Puts the scrollbar next to the DataFrame\n",
    "    display(HTML(\"<div style='height: 200px; overflow: auto; width: fit-content'>\" + df.to_html() + \"</div>\"))"
   ]
  },
  {
   "cell_type": "code",
   "execution_count": null,
   "id": "fa831031",
   "metadata": {},
   "outputs": [],
   "source": [
    "# Download Sample Data\n",
    "data = pd.read_csv('GOOG_2009-2010_6m_RAW_1d.csv')"
   ]
  },
  {
   "cell_type": "markdown",
   "id": "07b07a7e",
   "metadata": {},
   "source": [
    "# 2. Exploratory Data Analysis\n",
    "Next, we want to analyze our data. Display the data as a dataframe, and plot some relevant data so you can get an idea of what our dataset looks like."
   ]
  },
  {
   "cell_type": "code",
   "execution_count": null,
   "id": "e3f1f445",
   "metadata": {},
   "outputs": [],
   "source": [
    "# Display as Dataframe\n",
    "display_df(data)"
   ]
  },
  {
   "cell_type": "code",
   "execution_count": null,
   "id": "14311a5e",
   "metadata": {},
   "outputs": [],
   "source": [
    "# Index data by Date\n",
    "data.set_index('Date', inplace=True)\n",
    "display_df(data)"
   ]
  },
  {
   "cell_type": "code",
   "execution_count": null,
   "id": "ff369966",
   "metadata": {},
   "outputs": [],
   "source": [
    "# Plot the Close Data\n",
    "data['Close'].plot()"
   ]
  },
  {
   "cell_type": "markdown",
   "id": "4498c69d",
   "metadata": {},
   "source": [
    "# 3. Data Cleaning\n",
    "Next, we need to clean our data for training our model. This requires removal of NaN values."
   ]
  },
  {
   "cell_type": "code",
   "execution_count": null,
   "id": "2bef9a69",
   "metadata": {},
   "outputs": [],
   "source": [
    "# Check for null values\n",
    "print('Number of Null Values =', data.isnull().sum())"
   ]
  },
  {
   "cell_type": "code",
   "execution_count": null,
   "id": "4a276f9c",
   "metadata": {},
   "outputs": [],
   "source": [
    "# forward fill missing values\n",
    "data=data.ffill()\n",
    "display_df(data)"
   ]
  },
  {
   "cell_type": "code",
   "execution_count": null,
   "id": "f14b74bc",
   "metadata": {},
   "outputs": [],
   "source": [
    "# Check for null values\n",
    "print('Number of Null Values =', data.isnull().sum())"
   ]
  },
  {
   "cell_type": "markdown",
   "id": "914a0089",
   "metadata": {},
   "source": [
    "# 4. Feature Definition\n",
    "Now that we have cleaned our stock data, we can define some financial indicaors, or \"features\" to train our model on. We will be calculating some popular indicators: 20-day Close Moving Average, 5-day Close Moving Average, and 20-day Close Bollinger Bands."
   ]
  },
  {
   "cell_type": "code",
   "execution_count": null,
   "id": "87552ec7",
   "metadata": {},
   "outputs": [],
   "source": [
    "data['MA5'] = data['Close'].rolling(window=5).mean()\n",
    "data['MA20'] = data['Close'].rolling(window=20).mean()\n",
    "data['STD20'] = data['Close'].rolling(window=20).std()\n",
    "data['BB_upper'] = data['MA20'] + (data['STD20'] * 2)\n",
    "data['BB_lower'] = data['MA20'] - (data['STD20'] * 2)\n",
    "display_df(data)"
   ]
  },
  {
   "cell_type": "code",
   "execution_count": null,
   "id": "1fd4f73e",
   "metadata": {},
   "outputs": [],
   "source": [
    "# Remove rows with MA=NaN\n",
    "data = data.dropna(axis=0)\n",
    "display_df(data)"
   ]
  },
  {
   "cell_type": "code",
   "execution_count": null,
   "id": "ac5e147c",
   "metadata": {},
   "outputs": [],
   "source": [
    "# Plot Features: Close, MA20, BB Upper, BB Lower\n",
    "data['Close'].plot()\n",
    "data['MA20'].plot()\n",
    "data['BB_upper'].plot()\n",
    "data['BB_lower'].plot(rot=45)"
   ]
  },
  {
   "cell_type": "code",
   "execution_count": null,
   "id": "24952b6d",
   "metadata": {},
   "outputs": [],
   "source": [
    "# Plot Features: Close, MA20, MA5\n",
    "data['Close'].plot()\n",
    "data['MA20'].plot()\n",
    "data['MA5'].plot(rot=45)"
   ]
  },
  {
   "cell_type": "markdown",
   "id": "fd9233ca",
   "metadata": {},
   "source": [
    "# 5. State Space Representation\n",
    "Now we have a set of data with OHLC data plus some techinchal indicators. Using this data, construct the state space matrix, whese features of the state space are Close Price, 5-day Moving Average, 20-day Moving Average, and Bollinger Bands (upper and lower)."
   ]
  },
  {
   "cell_type": "code",
   "execution_count": null,
   "id": "350ef137",
   "metadata": {},
   "outputs": [],
   "source": [
    "# Construct the State Space Matrix\n",
    "dataset = data[['Close', 'MA5', 'MA20', 'BB_upper', 'BB_lower']]\n",
    "display_df(dataset)"
   ]
  }
 ],
 "metadata": {
  "kernelspec": {
   "display_name": "rl-project-udacity-tensorflow",
   "language": "python",
   "name": "python3"
  },
  "language_info": {
   "codemirror_mode": {
    "name": "ipython",
    "version": 3
   },
   "file_extension": ".py",
   "mimetype": "text/x-python",
   "name": "python",
   "nbconvert_exporter": "python",
   "pygments_lexer": "ipython3",
   "version": "3.11.9"
  }
 },
 "nbformat": 4,
 "nbformat_minor": 5
}
