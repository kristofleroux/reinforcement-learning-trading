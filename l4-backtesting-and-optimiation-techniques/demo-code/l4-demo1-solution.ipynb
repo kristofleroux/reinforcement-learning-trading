{
 "cells": [
  {
   "cell_type": "markdown",
   "id": "b4da38ad",
   "metadata": {},
   "source": [
    "# Libraries & Sample Data\n",
    "The first step is to load our Python Libraries and download the sample data. The dataset represents Apple stock price (1d bars) for the year 2010"
   ]
  },
  {
   "cell_type": "code",
   "execution_count": null,
   "id": "1aa05430",
   "metadata": {},
   "outputs": [],
   "source": [
    "# Load Python Libraries\n",
    "import math\n",
    "import keras\n",
    "import random\n",
    "import datetime\n",
    "import numpy as np\n",
    "import pandas as pd\n",
    "import matplotlib.pyplot as plt\n",
    "\n",
    "from collections import deque\n",
    "from tqdm.notebook import tqdm\n",
    "from IPython.display import display, HTML\n",
    "\n",
    "# for dataframe display\n",
    "pd.set_option(\"display.max_rows\", None)\n",
    "def display_df(df):\n",
    "    # Puts the scrollbar next to the DataFrame\n",
    "    display(HTML(\"<div style='height: 200px; overflow: auto; width: fit-content'>\" + df.to_html() + \"</div>\"))\n",
    "\n",
    "# for reproducability of answers\n",
    "keras.utils.set_random_seed(42)\n"
   ]
  },
  {
   "cell_type": "code",
   "execution_count": null,
   "id": "fa831031",
   "metadata": {},
   "outputs": [],
   "source": [
    "# Download Sample Data GOOG_2008-2009_6m_RAW_1d \n",
    "data = pd.read_csv('GOOG_2008-2009_6m_RAW_1d.csv')\n",
    "# track index to remember which feature is which\n",
    "idx_close = 0\n",
    "idx_bb_upper = 1\n",
    "idx_bb_lower = 2"
   ]
  },
  {
   "cell_type": "markdown",
   "id": "fb030f5f",
   "metadata": {},
   "source": [
    "# Clean Data"
   ]
  },
  {
   "cell_type": "code",
   "execution_count": null,
   "id": "5e7b477c",
   "metadata": {},
   "outputs": [],
   "source": [
    "# Check for null values\n",
    "print('Number of Null Values =', data.isnull().sum())"
   ]
  },
  {
   "cell_type": "code",
   "execution_count": null,
   "id": "03eac89a",
   "metadata": {},
   "outputs": [],
   "source": [
    "# forward fill missing values\n",
    "data=data.ffill()\n",
    "display_df(data)"
   ]
  },
  {
   "cell_type": "code",
   "execution_count": null,
   "id": "98ea32db",
   "metadata": {},
   "outputs": [],
   "source": [
    "print('Number of Null Values =', data.isnull().sum())"
   ]
  },
  {
   "cell_type": "markdown",
   "id": "cdaf11f6",
   "metadata": {},
   "source": [
    "# Define Features (copy from training code)"
   ]
  },
  {
   "cell_type": "code",
   "execution_count": null,
   "id": "7ead85ff",
   "metadata": {},
   "outputs": [],
   "source": [
    "data['MA20'] = data['Close'].rolling(window=20).mean()\n",
    "data['STD20'] = data['Close'].rolling(window=20).std()\n",
    "data['BB_upper'] = data['MA20'] + (data['STD20'] * 2)\n",
    "data['BB_lower'] = data['MA20'] - (data['STD20'] * 2)\n",
    "display_df(data)"
   ]
  },
  {
   "cell_type": "code",
   "execution_count": null,
   "id": "8dd8be67",
   "metadata": {},
   "outputs": [],
   "source": [
    "# Remove rows with MA=NaN\n",
    "data = data.dropna(axis=0)\n",
    "display_df(data)"
   ]
  },
  {
   "cell_type": "code",
   "execution_count": null,
   "id": "42a5d1f6",
   "metadata": {},
   "outputs": [],
   "source": [
    "# Plot Features: Close, MA20, BB Upper, BB Lower\n",
    "data['Close'].plot()\n",
    "data['MA20'].plot()\n",
    "data['BB_upper'].plot()\n",
    "data['BB_lower'].plot(rot=45)"
   ]
  },
  {
   "cell_type": "markdown",
   "id": "dc094196",
   "metadata": {},
   "source": [
    "# State Space Matrix"
   ]
  },
  {
   "cell_type": "code",
   "execution_count": null,
   "id": "bcf67074",
   "metadata": {},
   "outputs": [],
   "source": [
    "# Construct the State Space Matrix\n",
    "dataset = data.reset_index()[['Date', 'Close', 'MA20', 'BB_upper', 'BB_lower']]\n",
    "display_df(dataset)"
   ]
  },
  {
   "cell_type": "markdown",
   "id": "b343c7e8",
   "metadata": {},
   "source": [
    "# Normalize (match normailizer from training)"
   ]
  },
  {
   "cell_type": "code",
   "execution_count": null,
   "id": "a29349af",
   "metadata": {},
   "outputs": [],
   "source": [
    "# Normalize Dataset with StandardScaler\n",
    "normlist = []\n",
    "static_normed_dataset = pd.DataFrame(index=dataset.index)\n",
    "for col in dataset.columns:\n",
    "    if col == 'Date':\n",
    "        static_normed_dataset[col] = dataset[col]\n",
    "        continue\n",
    "    normalizer = StandardScaler()\n",
    "    column_data = pd.DataFrame(dataset[col])\n",
    "    normalizer.fit(column_data)\n",
    "    static_normed_dataset[col] = normalizer.transform(column_data).flatten()\n",
    "    normlist.append(normalizer)"
   ]
  },
  {
   "cell_type": "code",
   "execution_count": null,
   "id": "480bc4d7",
   "metadata": {},
   "outputs": [],
   "source": [
    "# Plot Normalized Features: Close, MA20, BB Upper, BB Lower\n",
    "static_normed_dataset['Close'].plot()\n",
    "static_normed_dataset['MA20'].plot()\n",
    "static_normed_dataset['BB_upper'].plot()\n",
    "static_normed_dataset['BB_lower'].plot()"
   ]
  },
  {
   "cell_type": "markdown",
   "id": "93fd2a34",
   "metadata": {},
   "source": [
    "# Type Conversion "
   ]
  },
  {
   "cell_type": "code",
   "execution_count": null,
   "id": "a7346a69",
   "metadata": {},
   "outputs": [],
   "source": [
    "# convert train and test dfs to np arrays with dtype=float\n",
    "X_backtest = static_normed_dataset.values.astype(float)\n",
    "# print the shape of X_backtest to remind yourself how many examples and features are in the dataset\n",
    "X_backtest.shape"
   ]
  },
  {
   "cell_type": "markdown",
   "id": "89033eab",
   "metadata": {},
   "source": [
    "# Agent Class & Helper Functions (copy from training code)\n"
   ]
  },
  {
   "cell_type": "code",
   "execution_count": null,
   "id": "e33b695b",
   "metadata": {},
   "outputs": [],
   "source": [
    "class Agent:\n",
    "    def __init__(self, window_size, num_features, test_mode=False, model_name=''):\n",
    "        self.window_size = window_size # How many days of historical data do we want to include in our state representation?\n",
    "        self.num_features = num_features # How many training features do we have?\n",
    "        self.state_size = window_size*num_features # State size includes number of training features per day, and number of lookback days \n",
    "        self.action_size = 3 # 0=hold, 1=buy, 2=sell\n",
    "        self.memory = deque(maxlen=1000) # Bound memory size: once the memory reaches 1000 units, the lefthand values are discarded as righthand values are added\n",
    "        self.inventory = [] # Inventory to hold trades\n",
    "        self.model_name = model_name # filename for saved model checkpoint loading\n",
    "        self.test_mode = test_mode # flag for testing (allows model load from checkpoint model_name)\n",
    "\n",
    "        self.gamma = 0.95\n",
    "        self.epsilon = 1.0\n",
    "        self.epsilon_min = 0.01\n",
    "        self.epsilon_decay = 0.995\n",
    "        \n",
    "        self.model = keras.models.load_model(model_name) if test_mode else self._model()\n",
    "\n",
    "\n",
    "    # DQL Predict (with input reshaping)\n",
    "    #   Input = State\n",
    "    #   Output = Q-Table of action Q-Values\n",
    "    def get_q_values_for_state(self, state):\n",
    "        return self.model.predict(state.flatten().reshape(1, self.state_size))\n",
    "\n",
    "    # Agent Action Selector\n",
    "    #   Input = State\n",
    "    #   Policy = epsilon-greedy (to minimize possibility of overfitting)\n",
    "    #   Intitially high epsilon = more random, epsilon decay = less random later\n",
    "    #   Output = Action (0, 1, or 2)\n",
    "    def act(self, state): \n",
    "        # Choose any action at random (Probablility = epsilon for training mode, 0% for testing mode)\n",
    "        if not self.test_mode and random.random() <= self.epsilon:\n",
    "            return random.randrange(self.action_size)   \n",
    "        # Choose the action which has the highest Q-value (Probablitly = 1-epsilon for training mode, 100% for testing mode)\n",
    "        options = self.get_q_values_for_state(state)\n",
    "        return np.argmax(options[0]) "
   ]
  },
  {
   "cell_type": "code",
   "execution_count": null,
   "id": "7fe109af",
   "metadata": {},
   "outputs": [],
   "source": [
    "# Format price string\n",
    "def format_price(n):\n",
    "    return ('-$' if n < 0 else '$') + '{0:.2f}'.format(abs(n))\n",
    "\n",
    "def sigmoid(x):\n",
    "    return 1 / (1 + math.exp(-x))\n",
    "\n",
    "# Plot behavior of trade output\n",
    "def plot_behavior(data_input, bb_upper_data, bb_lower_data, states_buy, states_sell, profit, train=True):\n",
    "    fig = plt.figure(figsize = (15,5))\n",
    "    plt.plot(data_input, color='k', lw=2., label= 'Close Price')\n",
    "    plt.plot(bb_upper_data, color='b', lw=2., label = 'Bollinger Bands')\n",
    "    plt.plot(bb_lower_data, color='b', lw=2.)\n",
    "    plt.plot(data_input, '^', markersize=10, color='r', label = 'Buying signal', markevery = states_buy)\n",
    "    plt.plot(data_input, 'v', markersize=10, color='g', label = 'Selling signal', markevery = states_sell)\n",
    "    plt.title('Total gains: %f'%(profit))\n",
    "    plt.legend()\n",
    "    plt.xticks(range(0, len(static_normed_dataset.index.values), int(len(static_normed_dataset.index.values)/2)), static_normed_dataset.index.values[0::int(len(static_normed_dataset.index.values)/2)], rotation=45, fontsize='small')\n",
    "    plt.show()\n",
    "\n",
    "# returns an an n-day state representation ending at time t\n",
    "def get_state(data, t, n):    \n",
    "    d = t - n\n",
    "    if d >= 0:\n",
    "        block = data[d:t] \n",
    "    else:\n",
    "        block =  np.array([data[0]]*n) \n",
    "    res = []\n",
    "    for i in range(n - 1):\n",
    "        feature_res = []\n",
    "        for feature in range(data.shape[1]):\n",
    "            feature_res.append(sigmoid(block[i + 1, feature] - block[i, feature]))\n",
    "        res.append(feature_res)\n",
    "    # display(res)\n",
    "    return np.array([res])"
   ]
  },
  {
   "cell_type": "markdown",
   "id": "0cbd7885",
   "metadata": {},
   "source": [
    "# Define Parameters"
   ]
  },
  {
   "cell_type": "code",
   "execution_count": null,
   "id": "02b3f476",
   "metadata": {},
   "outputs": [],
   "source": [
    "window_size = 1\n",
    "\n",
    "episode_to_load = 5\n",
    "\n",
    "l_test = len(X_backtest) - 1\n",
    "state = get_state(X_backtest, 0, window_size + 1)\n",
    "total_profit = 0\n",
    "done = False\n",
    "states_sell_test = []\n",
    "states_buy_test = []\n",
    "\n",
    "#Get the trained model\n",
    "agent = Agent(window_size, num_features=X_backtest.shape[1], test_mode=True, model_name=f'model_ep{episode_to_load}.keras')\n",
    "agent.inventory = []"
   ]
  },
  {
   "cell_type": "markdown",
   "id": "6bd50960",
   "metadata": {},
   "source": [
    "# Define normalizers for inverse transform back to true price"
   ]
  },
  {
   "cell_type": "code",
   "execution_count": null,
   "id": "17011b2b",
   "metadata": {},
   "outputs": [],
   "source": [
    "normalizer_close = normlist[idx_close]\n",
    "normalizer_bb_upper = normlist[idx_bb_upper]\n",
    "normalizer_bb_lower = normlist[idx_bb_lower]\n",
    "\n",
    "X_backtest_true_price = normalizer_close.inverse_transform(X_backtest[:, idx_close].reshape(-1, 1))\n",
    "X_backtest_true_bb_upper = normalizer_bb_upper.inverse_transform(X_backtest[:, idx_bb_upper].reshape(-1, 1))\n",
    "X_backtest_true_bb_lower = normalizer_bb_lower.inverse_transform(X_backtest[:, idx_bb_lower].reshape(-1, 1))"
   ]
  },
  {
   "cell_type": "code",
   "execution_count": null,
   "id": "b474ba5f",
   "metadata": {},
   "outputs": [],
   "source": [
    "for t in range(l_test):\n",
    "    action = agent.act(state)\n",
    "    next_state = get_state(X_backtest, t + 1, window_size + 1)\n",
    "    reward = 0\n",
    "\n",
    "    if action == 1: # buy\n",
    "        # inverse transform to get true buy price in dollars\n",
    "        buy_price = X_backtest[t, idx_close]\n",
    "        agent.inventory.append(buy_price)\n",
    "        states_buy_test.append(t)\n",
    "        print(f'Buy: {format_price(buy_price)}')\n",
    "\n",
    "    elif action == 2 and len(agent.inventory) > 0: # sell\n",
    "        bought_price = agent.inventory.pop(0)  \n",
    "        # inverse transform to get true sell price in dollars\n",
    "        sell_price = X_backtest[t, idx_close]\n",
    "\n",
    "        # reward is max of profit (close price at time of sell - close price at time of buy)\n",
    "        reward = max(sell_price - bought_price, 0)\n",
    "        total_profit += sell_price - bought_price\n",
    "        states_sell_test.append(t)\n",
    "        print(f'Sell: {format_price(sell_price)} | Profit: {format_price(sell_price - bought_price)}')\n",
    "\n",
    "\n",
    "    if t == l_test - 1:\n",
    "        done = True\n",
    "    \n",
    "    # append to memory so we can re-train on 'live' (test) data later    \n",
    "    agent.memory.append((state, action, reward, next_state, done))\n",
    "    state = next_state\n",
    "\n",
    "    if done:\n",
    "        print('------------------------------------------')\n",
    "        print(f'Total Profit: {format_price(total_profit)}')\n",
    "        print('------------------------------------------')\n",
    "        \n",
    "plot_behavior(X_backtest[:, idx_close].flatten(),X_backtest[:, idx_bb_upper].flatten(), X_backtest[:, idx_bb_lower].flatten(), states_buy_test, states_sell_test, total_profit, train=False)"
   ]
  }
 ],
 "metadata": {
  "kernelspec": {
   "display_name": "rl-project-udacity",
   "language": "python",
   "name": "python3"
  },
  "language_info": {
   "codemirror_mode": {
    "name": "ipython",
    "version": 3
   },
   "file_extension": ".py",
   "mimetype": "text/x-python",
   "name": "python",
   "nbconvert_exporter": "python",
   "pygments_lexer": "ipython3",
   "version": "3.11.9"
  }
 },
 "nbformat": 4,
 "nbformat_minor": 5
}
